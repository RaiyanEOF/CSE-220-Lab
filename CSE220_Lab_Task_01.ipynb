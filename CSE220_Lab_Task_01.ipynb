{
  "nbformat": 4,
  "nbformat_minor": 0,
  "metadata": {
    "colab": {
      "provenance": [],
      "authorship_tag": "ABX9TyP1+rFERzPXgj/aMnEvp5UT"
    },
    "kernelspec": {
      "name": "python3",
      "display_name": "Python 3"
    },
    "language_info": {
      "name": "python"
    }
  },
  "cells": [
    {
      "cell_type": "markdown",
      "source": [
        "## TASK 01\n"
      ],
      "metadata": {
        "id": "vdkxt5htnpXT"
      }
    },
    {
      "cell_type": "code",
      "source": [
        "def mergeSortedArray(arr1, arr2):\n",
        "  #To Do\n",
        "  pass#remove this line when you're done with the method\n",
        "  arr1 = np.asarray(arr1)\n",
        "  arr2 = np.asarray(arr2)\n",
        "  merged = np.empty(len(arr1) + len(arr2),dtype = arr1.dtype)\n",
        "  i = j = k = 0\n",
        "  while(i<len(arr1) and j<len(arr2)) :\n",
        "    if(arr1[i] < arr2[j]) :\n",
        "      merged[k] = arr1[i]\n",
        "      i += 1\n",
        "    else :\n",
        "      merged[k] = arr2[j]\n",
        "      j += 1\n",
        "    k +=1\n",
        "    while(i<len(arr1)) :\n",
        "      merged[k] = arr1[i]\n",
        "      i += 1\n",
        "      k += 1\n",
        "    while(j<len(arr2)) :\n",
        "      merged[k] = arr2[j]\n",
        "      j += 1\n",
        "      k += 1\n",
        "    return merged\n",
        "arr1 = np.array([1,2,3])\n",
        "arr2 = np.array([2,5,6])\n",
        "arr3 = mergeSortedArray(arr1,arr2)\n",
        "print(arr3)\n",
        "\n",
        "#DO NOT CHANGE THE CODE BELOW\n",
        "a1 = np.array([1, 2, 3])\n",
        "print(f'Sorted Array 1: {a1}')\n",
        "a2 = np.array([2, 5, 6])\n",
        "print(f'Sorted Array 2: {a2}')\n",
        "returned_value = mergeSortedArray(a1, a2)\n",
        "print(f'Merged Sorted Array: {returned_value}\\n') # This should print [1, 2, 2, 3, 5, 6]\n",
        "unittest.output_test(returned_value, np.array([1, 2, 2, 3, 5, 6]))\n",
        "\n",
        "print('\\n==================================\\n')\n",
        "\n",
        "a3 = np.array([1, 3, 5, 11])\n",
        "print(f'Sorted Array 3: {a3}')\n",
        "a4 = np.array([2, 7, 8])\n",
        "print(f'Sorted Array 4: {a4}')\n",
        "returned_value = mergeSortedArray(a3, a4)\n",
        "print(f'Merged Sorted Array: {returned_value}\\n') # This should print [1, 2, 3, 5, 7, 8, 11]\n",
        "unittest.output_test(returned_value, np.array([1, 2, 3, 5, 7, 8, 11]))"
      ],
      "metadata": {
        "id": "SwkY_ZFMnsaj"
      },
      "execution_count": null,
      "outputs": []
    },
    {
      "cell_type": "markdown",
      "source": [
        "## TASK 02\n"
      ],
      "metadata": {
        "id": "mS6-lh0DnzdC"
      }
    },
    {
      "cell_type": "code",
      "source": [
        "def walk_zigzag(floor):\n",
        "  #TO DO\n",
        "  pass#remove this line once you're done with the function\n",
        "  row,col = floor.shape\n",
        "\n",
        "  j = 0\n",
        "  while j<col :\n",
        "    if j%2==0 :\n",
        "      i = 0\n",
        "      while(i<row) :\n",
        "        if((i+j)%2 == 0) :\n",
        "          print(floor[i][j], end = \" \")\n",
        "        i += 1\n",
        "\n",
        "\n",
        "    else :\n",
        "      i = row - 1\n",
        "      while(i>=0) :\n",
        "        if((i+j)%2 == 0) :\n",
        "          print(floor[i][j], end = \" \")\n",
        "        i -= 1\n",
        "    print()\n",
        "\n",
        "    j += 1\n",
        "\n",
        "\n",
        "#DO NOT CHANGE THE CODE BELOW\n",
        "floor = np.array([[ '3' , '8' , '4' , '6' , '1'],\n",
        "                  ['7' , '2' , '1' , '9' , '3'],\n",
        "                  ['9' , '0' , '7' , '5' , '8'],\n",
        "                  ['2' , '1' , '3' , '4' , '0'],\n",
        "                  ['1' , '4' , '2' , '8' , '6']]\n",
        "                )\n",
        "print('Walking Sequence:')\n",
        "walk_zigzag(floor)\n",
        "#This should print\n",
        "# 3 9 1\n",
        "# 1 2\n",
        "# 4 7 2\n",
        "# 4 9\n",
        "# 1 8 6\n",
        "print('\\n################################\\n')\n",
        "floor = np.array([[ '3' , '8' , '4' , '6' , '1'],\n",
        "                  ['7' , '2' , '1' , '9' , '3'],\n",
        "                  ['9' , '0' , '7' , '5' , '8'],\n",
        "                  ['2' , '1' , '3' , '4' , '0']]\n",
        "                )\n",
        "\n",
        "print('Walking Sequence:')\n",
        "walk_zigzag(floor)\n",
        "#This should print\n",
        "# 3 9\n",
        "# 1 2\n",
        "# 4 7\n",
        "# 4 9\n",
        "# 1 8"
      ],
      "metadata": {
        "id": "cR2EsUdyn2Er"
      },
      "execution_count": null,
      "outputs": []
    },
    {
      "cell_type": "markdown",
      "source": [
        " ## TASK 03"
      ],
      "metadata": {
        "id": "AUXV-Vshn9Y8"
      }
    },
    {
      "cell_type": "code",
      "source": [
        "def decrypt_matrix(matrix):\n",
        "  #To Do\n",
        "  pass#remove this line after you're done with the function\n",
        "  col_sum = np.zeros(matrix.shape[1], dtype=int)\n",
        "  for row in matrix:\n",
        "        for col_index in range(matrix.shape[1]):\n",
        "            col_sum[col_index] += row[col_index]\n",
        "\n",
        "\n",
        "  col_diff = col_sum[1:] - col_sum[:-1]\n",
        "\n",
        "  return col_diff\n",
        "\n",
        "#DO NOT CHANGE THE CODE BELOW\n",
        "matrix=np.array([[1,3,1],\n",
        "                 [6,4,2],\n",
        "                 [5,1,7],\n",
        "                 [9,3,3],\n",
        "                 [8,5,4]\n",
        "                 ])\n",
        "\n",
        "returned_array=decrypt_matrix(matrix)\n",
        "print(returned_array)\n",
        "#This should print [-13, 1]\n"
      ],
      "metadata": {
        "id": "KNCtJybdoE_S"
      },
      "execution_count": null,
      "outputs": []
    }
  ]
}
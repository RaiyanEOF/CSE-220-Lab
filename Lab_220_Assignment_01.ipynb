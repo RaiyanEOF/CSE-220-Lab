{
  "nbformat": 4,
  "nbformat_minor": 0,
  "metadata": {
    "colab": {
      "provenance": [],
      "authorship_tag": "ABX9TyPeQETux17XsWtIxiT2+lQV"
    },
    "kernelspec": {
      "name": "python3",
      "display_name": "Python 3"
    },
    "language_info": {
      "name": "python"
    }
  },
  "cells": [
    {
      "cell_type": "markdown",
      "source": [
        "## **Assignment Task 01**"
      ],
      "metadata": {
        "id": "WIpG71HNFr_Q"
      }
    },
    {
      "cell_type": "code",
      "execution_count": null,
      "metadata": {
        "colab": {
          "base_uri": "https://localhost:8080/"
        },
        "id": "8EyfuWEz2ElW",
        "outputId": "75c439c8-a103-4471-bbfb-59f004e6c30e"
      },
      "outputs": [
        {
          "output_type": "stream",
          "name": "stdout",
          "text": [
            "\n",
            "['U' 'V' 'W' 'X' 'Y']\n",
            "['Z' 'AA' 'BB' 'CC' 'DD']\n",
            "['A' 'B' 'C' 'D' 'E']\n",
            "['F' 'G' 'H' 'I' 'J']\n",
            "['K' 'L' 'M' 'N' 'O']\n",
            "['P' 'Q' 'R' 'S' 'T']\n",
            "\n",
            "Your friend AA will be on row 2\n"
          ]
        }
      ],
      "source": [
        "import numpy as np\n",
        "\n",
        "def print_matrix(matrix):\n",
        "    for row in matrix:\n",
        "        print(row)\n",
        "\n",
        "def row_rotation(exam_week, seat_status) :\n",
        "  rows = len(seat_status)\n",
        "  cols = len(seat_status[0])\n",
        "  turns = (exam_week -1) % rows\n",
        "\n",
        "  for i in range(turns) :\n",
        "    last_col = [0] * cols\n",
        "    for j in range(cols) :\n",
        "      last_col[j] = seat_status[rows - 1][j]\n",
        "\n",
        "\n",
        "    for i in range(rows-1,0,-1) :\n",
        "      for j in range(cols) :\n",
        "        seat_status[i][j] = seat_status[i-1][j]\n",
        "\n",
        "\n",
        "    for j in range(cols) :\n",
        "      seat_status[0][j] = last_col[j]\n",
        "\n",
        "  row_number = -1\n",
        "  for i in range(rows):\n",
        "      for j in range(cols):\n",
        "          if seat_status[i][j] == \"AA\":\n",
        "              row_number = i + 1\n",
        "              break\n",
        "\n",
        "\n",
        "  print_matrix(seat_status)\n",
        "  print()\n",
        "\n",
        "  return row_number\n",
        "\n",
        "seat_status = np.array([[ 'A' , 'B' , 'C' , 'D' , 'E'],\n",
        "                  ['F' , 'G' , 'H' , 'I' , 'J'],\n",
        "                  ['K' , 'L' , 'M' , 'N' , 'O'],\n",
        "                  ['P' , 'Q' , 'R' , 'S' , 'T'],\n",
        "                  ['U' , 'V' , 'W' , 'X' , 'Y'],\n",
        "                  ['Z' , 'AA' , 'BB' , 'CC' , 'DD']])\n",
        "exam_week=3\n",
        "print()\n",
        "\n",
        "row_number=row_rotation(exam_week, seat_status)\n",
        "print(f'Your friend AA will be on row {row_number}')"
      ]
    },
    {
      "cell_type": "markdown",
      "source": [
        "## **Assignment Task 02**"
      ],
      "metadata": {
        "id": "Y_7UoYd1Fnva"
      }
    },
    {
      "cell_type": "code",
      "source": [
        "import numpy as np\n",
        "\n",
        "def print_matrix(matrix):\n",
        "    for row in matrix:\n",
        "        print(row)\n",
        "\n",
        "def compressed_matrix(mat) :\n",
        "  rows = len(mat)\n",
        "  cols = len(mat[0])\n",
        "\n",
        "  new_rows = rows // 2\n",
        "  new_cols = cols // 2\n",
        "\n",
        "  compressed_mat = np.zeros((new_rows, new_cols), dtype=int)\n",
        "\n",
        "  for i in range(new_rows) :\n",
        "    for j in range(new_cols) :\n",
        "\n",
        "      total = 0\n",
        "      for r in range(i*new_rows, (i+1)*new_rows) :\n",
        "        for c in range(j*new_cols, (j+1)*new_cols) :\n",
        "          total += mat[r][c]\n",
        "\n",
        "      compressed_mat[i][j] = total\n",
        "\n",
        "\n",
        "  return compressed_mat\n",
        "\n",
        "matrix=np.array([[1,2,3,4],\n",
        "                 [5,6,7,8],\n",
        "                 [1,3,5,2],\n",
        "                 [-2,0,6,-3]\n",
        "                 ])\n",
        "print_matrix(matrix)\n",
        "print(\"\\n..............................\\n\")\n",
        "returned_array=compressed_matrix(matrix)\n",
        "print_matrix(returned_array)"
      ],
      "metadata": {
        "colab": {
          "base_uri": "https://localhost:8080/"
        },
        "id": "8AO60mxjGEzC",
        "outputId": "a2c946c7-e041-41d1-8fd7-b1a8287f599b"
      },
      "execution_count": 6,
      "outputs": [
        {
          "output_type": "stream",
          "name": "stdout",
          "text": [
            "[1 2 3 4]\n",
            "[5 6 7 8]\n",
            "[1 3 5 2]\n",
            "[-2  0  6 -3]\n",
            "\n",
            "..............................\n",
            "\n",
            "[14 22]\n",
            "[ 2 10]\n"
          ]
        }
      ]
    },
    {
      "cell_type": "markdown",
      "source": [
        "### **Aissgnment 03**"
      ],
      "metadata": {
        "id": "WX39kEoXlN-N"
      }
    },
    {
      "cell_type": "code",
      "source": [
        "import numpy as np\n",
        "\n",
        "def play_game(mat) :\n",
        "  rows = len(mat)\n",
        "  cols = len(mat[0])\n",
        "  d = [(-1, 0), (1, 0), (0, -1), (0, 1)]\n",
        "  total = 0\n",
        "\n",
        "  for i in range(rows) :\n",
        "    for j in range(cols) :\n",
        "      if(mat[i][j] % 50 == 0 and mat[i][j] != 0) :\n",
        "        points = 0\n",
        "        for dx,dy in (d) :\n",
        "          ni = i + dx\n",
        "          nj = j + dy\n",
        "          if(ni >= 0 and ni < rows and nj >= 0 and nj < cols) :\n",
        "            if(mat[ni][nj]==2) :\n",
        "              points += 2\n",
        "\n",
        "        total += points\n",
        "\n",
        "  if total >= 10:\n",
        "        print(f\"Points Gained: {total}. Your team has survived the game.\")\n",
        "  else:\n",
        "        print(f\"Points Gained: {total}. Your team is out.\")\n",
        "\n",
        "\n",
        "\n",
        "matrix1 = [\n",
        "    [0, 2, 2, 0],\n",
        "    [50, 1, 2, 0],\n",
        "    [2, 2, 2, 0],\n",
        "    [1, 100, 2, 0]\n",
        "]\n",
        "\n",
        "matrix2 = [\n",
        "    [0, 2, 2, 0, 2],\n",
        "    [1, 50, 2, 1, 100],\n",
        "    [2, 2, 2, 0, 2],\n",
        "    [0, 200, 2, 0, 0]\n",
        "]\n",
        "\n",
        "play_game(matrix1)\n",
        "\n",
        "play_game(matrix2)"
      ],
      "metadata": {
        "colab": {
          "base_uri": "https://localhost:8080/"
        },
        "id": "8qdKdW2Klbz0",
        "outputId": "3dc9f5a0-128a-47f6-f6e4-a857902658f6"
      },
      "execution_count": null,
      "outputs": [
        {
          "output_type": "stream",
          "name": "stdout",
          "text": [
            "Points Gained: 6. Your team is out.\n",
            "Points Gained: 14. Your team has survived the game.\n"
          ]
        }
      ]
    },
    {
      "cell_type": "markdown",
      "source": [
        "### **Assignment 04**"
      ],
      "metadata": {
        "id": "UQrYH_PPoqUk"
      }
    },
    {
      "cell_type": "code",
      "source": [
        "import numpy as np\n",
        "\n",
        "def rotate_matrix(matrix, layer, rotations):\n",
        "    n = len(matrix)\n",
        "    start = layer\n",
        "    end = n - 1 - layer\n",
        "\n",
        "    for _ in range(rotations):\n",
        "        prev = matrix[start][start]\n",
        "\n",
        "        for j in range(start + 1, end + 1):\n",
        "            temp = matrix[start][j]\n",
        "            matrix[start][j] = prev\n",
        "            prev = temp\n",
        "\n",
        "        for i in range(start + 1, end + 1):\n",
        "            temp = matrix[i][end]\n",
        "            matrix[i][end] = prev\n",
        "            prev = temp\n",
        "\n",
        "        for j in range(end - 1, start - 1, -1):\n",
        "            temp = matrix[end][j]\n",
        "            matrix[end][j] = prev\n",
        "            prev = temp\n",
        "\n",
        "        for i in range(end - 1, start - 1, -1):\n",
        "            temp = matrix[i][start]\n",
        "            matrix[i][start] = prev\n",
        "            prev = temp\n",
        "\n",
        "\n",
        "def rotate_secret(matrix):\n",
        "    layers = len(matrix) // 2\n",
        "    for layer in range(layers):\n",
        "        rotations = layer + 1\n",
        "        rotate_matrix(matrix, layers - 1 - layer, rotations)\n",
        "\n",
        "    message = ''.join(''.join(row) for row in matrix)\n",
        "    print(message)\n",
        "\n",
        "board1 = [\n",
        "    ['T','A','U','S'],\n",
        "    ['A','R','I','.'],\n",
        "    ['D','T','T','N'],\n",
        "    ['S','C','F','U']\n",
        "]\n",
        "\n",
        "rotate_secret(board1)  # Output: DATASTRUCTISFUN.\n",
        "\n",
        "# --- Sample Test 2 ---\n",
        "board2 = [\n",
        "    ['O','R','I','R','N','P'],\n",
        "    ['G','S','A','A','L','R'],\n",
        "    ['L','M','N','O','N','Y'],\n",
        "    ['A','H','U','O','O','P'],\n",
        "    ['T','F','C','T','H','S'],\n",
        "    ['E','D','Y','O','C','K']\n",
        "]\n",
        "\n",
        "rotate_secret(board2)  # Output: ALGORITHMSAREFUNANDCOOLPYTHONROCKSPY"
      ],
      "metadata": {
        "id": "lb1aQYczowdp",
        "colab": {
          "base_uri": "https://localhost:8080/"
        },
        "outputId": "2be27f9e-a19f-407b-ea10-60168669ec3c"
      },
      "execution_count": 5,
      "outputs": [
        {
          "output_type": "stream",
          "name": "stdout",
          "text": [
            "DATASTRUCTISFUN.\n",
            "ALGORITHMSAREFUNANDCOOLPYTHONROCKSPY\n"
          ]
        }
      ]
    }
  ]
}